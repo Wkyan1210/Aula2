{
 "cells": [
  {
   "cell_type": "markdown",
   "id": "c7f43c51",
   "metadata": {},
   "source": [
    "# Lista de Exercícios - Biblioteca Pandas\n",
    "Este notebook contém a resolução dos exercícios sobre a biblioteca Pandas."
   ]
  },
  {
   "cell_type": "code",
   "execution_count": null,
   "id": "64265f5a",
   "metadata": {},
   "outputs": [],
   "source": [
    "\n",
    "import pandas as pd\n",
    "\n",
    "# Carregar o dataset (substitua pelo caminho correto do arquivo)\n",
    "df = pd.read_csv(\"vendas_de_ingressos.csv\")\n",
    "\n",
    "# Exibir as primeiras linhas para ver a estrutura dos dados\n",
    "df.head()\n"
   ]
  },
  {
   "cell_type": "code",
   "execution_count": null,
   "id": "77fe62db",
   "metadata": {},
   "outputs": [],
   "source": [
    "\n",
    "# 1. Exibir a quantidade de linhas e colunas do DataFrame\n",
    "df.shape\n"
   ]
  },
  {
   "cell_type": "code",
   "execution_count": null,
   "id": "8a8edda8",
   "metadata": {},
   "outputs": [],
   "source": [
    "\n",
    "# 2. Exibir as 7 primeiras linhas do DataFrame\n",
    "df.head(7)\n"
   ]
  },
  {
   "cell_type": "code",
   "execution_count": null,
   "id": "74466f06",
   "metadata": {},
   "outputs": [],
   "source": [
    "\n",
    "# 3. Exibir as 10 últimas linhas do DataFrame\n",
    "df.tail(10)\n"
   ]
  },
  {
   "cell_type": "code",
   "execution_count": null,
   "id": "01e25e17",
   "metadata": {},
   "outputs": [],
   "source": [
    "\n",
    "# 4. Renomear as colunas de forma permanente\n",
    "df.rename(columns={\n",
    "    \"Age\": \"Idade\",\n",
    "    \"Ticket_Price\": \"Preco_do_Ingresso\",\n",
    "    \"Movie_Genre\": \"Genero\",\n",
    "    \"Seat_Type\": \"Tipo_de_Assento\",\n",
    "    \"Number_of_Person\": \"Numero_de_Pessoas\",\n",
    "    \"Purchase_Again\": \"Compraria_Novamente\"\n",
    "}, inplace=True)\n",
    "\n",
    "df.head()\n"
   ]
  },
  {
   "cell_type": "code",
   "execution_count": null,
   "id": "7d3e29c6",
   "metadata": {},
   "outputs": [],
   "source": [
    "\n",
    "# 5. Resumo estatístico dos dados numéricos\n",
    "df.describe()\n"
   ]
  },
  {
   "cell_type": "code",
   "execution_count": null,
   "id": "8bc4ff80",
   "metadata": {},
   "outputs": [],
   "source": [
    "\n",
    "# 6. Filtrar os dados por gênero\n",
    "df[\"Genero\"].unique()\n"
   ]
  },
  {
   "cell_type": "code",
   "execution_count": null,
   "id": "de8cbd6e",
   "metadata": {},
   "outputs": [],
   "source": [
    "\n",
    "# 7. Exibir os dados das linhas 12 a 20 (inclusive)\n",
    "df.iloc[11:20]\n"
   ]
  },
  {
   "cell_type": "code",
   "execution_count": null,
   "id": "b0a76520",
   "metadata": {},
   "outputs": [],
   "source": [
    "\n",
    "# 8. Exibir os dados das linhas 35, 38, 42 e 50\n",
    "df.iloc[[34, 37, 41, 49]]\n"
   ]
  },
  {
   "cell_type": "code",
   "execution_count": null,
   "id": "5a1673a8",
   "metadata": {},
   "outputs": [],
   "source": [
    "\n",
    "# 9. Exibir os dados em que o tipo de assento é Standard\n",
    "df[df[\"Tipo_de_Assento\"] == \"Standard\"]\n"
   ]
  },
  {
   "cell_type": "code",
   "execution_count": null,
   "id": "ea724fc5",
   "metadata": {},
   "outputs": [],
   "source": [
    "\n",
    "# 10. Exibir os dados em que as idades dos consumidores estão entre 20 e 45 anos (inclusive)\n",
    "df[(df[\"Idade\"] >= 20) & (df[\"Idade\"] <= 45)]\n"
   ]
  },
  {
   "cell_type": "code",
   "execution_count": null,
   "id": "0dd1273a",
   "metadata": {},
   "outputs": [],
   "source": [
    "\n",
    "# 11. Criar um novo DataFrame em que o gênero dos filmes assistidos é Comedy\n",
    "df_comedy = df[df[\"Genero\"] == \"Comedy\"]\n",
    "df_comedy\n"
   ]
  },
  {
   "cell_type": "code",
   "execution_count": null,
   "id": "9a1d4857",
   "metadata": {},
   "outputs": [],
   "source": [
    "\n",
    "# 12. Criar um novo DataFrame exibindo registros de Preço do Ingresso, Gênero e Tipo de Assento nos clientes que comprariam novamente\n",
    "df_comprariam_novamente = df[df[\"Compraria_Novamente\"] == \"Yes\"][[\"Preco_do_Ingresso\", \"Genero\", \"Tipo_de_Assento\"]]\n",
    "df_comprariam_novamente\n"
   ]
  },
  {
   "cell_type": "code",
   "execution_count": null,
   "id": "ae8ad57c",
   "metadata": {},
   "outputs": [],
   "source": [
    "\n",
    "# 13. Criar uma nova Series filtrando os dados pelo Tipo de Assento\n",
    "tipo_assento_series = df[\"Tipo_de_Assento\"]\n",
    "tipo_assento_series\n"
   ]
  },
  {
   "cell_type": "code",
   "execution_count": null,
   "id": "14266697",
   "metadata": {},
   "outputs": [],
   "source": [
    "\n",
    "# 14. Excluir a coluna Ticket_ID de forma permanente\n",
    "df.drop(columns=[\"Ticket_ID\"], inplace=True)\n",
    "df.head()\n"
   ]
  },
  {
   "cell_type": "code",
   "execution_count": null,
   "id": "9a9c0eb4",
   "metadata": {},
   "outputs": [],
   "source": [
    "\n",
    "# 15. Verificar a quantidade de valores nulos no dataset\n",
    "df.isnull().sum()\n"
   ]
  },
  {
   "cell_type": "code",
   "execution_count": null,
   "id": "4d60e27e",
   "metadata": {},
   "outputs": [],
   "source": [
    "\n",
    "# 16. Verificar a quantidade de valores NaN no dataset\n",
    "df.isna().sum()\n"
   ]
  },
  {
   "cell_type": "code",
   "execution_count": null,
   "id": "ba2c86aa",
   "metadata": {},
   "outputs": [],
   "source": [
    "\n",
    "# 17. Utilizar iloc para exibir as linhas 15 a 20 e as colunas Idade, Preço_do_Ingresso e Gênero\n",
    "df.iloc[14:20, [0, 1, 2]]\n"
   ]
  },
  {
   "cell_type": "code",
   "execution_count": null,
   "id": "14a2ce14",
   "metadata": {},
   "outputs": [],
   "source": [
    "\n",
    "# 18. Utilizar iloc para exibir as linhas 3, 8, 10 e 13 e as colunas Gênero e Número de Pessoas\n",
    "df.iloc[[2, 7, 9, 12], [2, 4]]\n"
   ]
  }
 ],
 "metadata": {
  "language_info": {
   "name": "python"
  }
 },
 "nbformat": 4,
 "nbformat_minor": 5
}
