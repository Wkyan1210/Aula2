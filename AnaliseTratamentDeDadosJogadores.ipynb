{
 "cells": [
  {
   "cell_type": "markdown",
   "id": "b77c473b-db06-4dd2-ba38-cfeb47fc6e75",
   "metadata": {},
   "source": [
    "# Análise Exploratória e Tratamento de Dados"
   ]
  },
  {
   "cell_type": "code",
   "execution_count": 1,
   "id": "e3d01e63-f774-47dd-8176-6ff4a66606a2",
   "metadata": {},
   "outputs": [],
   "source": [
    "# importar as bibliotecas\n",
    "import pandas as pd\n",
    "import seaborn as srn\n",
    "import statistics as sts"
   ]
  },
  {
   "cell_type": "code",
   "execution_count": 2,
   "id": "1f67ebe7-0779-420f-a666-f6f967ca2ad0",
   "metadata": {},
   "outputs": [],
   "source": [
    "# Carregar o arquivo CSV\n",
    "df = pd.read_csv(\"jogadores.csv\")"
   ]
  },
  {
   "cell_type": "code",
   "execution_count": 3,
   "id": "ba8e4258-db39-49e8-88d3-732402635a04",
   "metadata": {},
   "outputs": [
    {
     "data": {
      "text/html": [
       "<div>\n",
       "<style scoped>\n",
       "    .dataframe tbody tr th:only-of-type {\n",
       "        vertical-align: middle;\n",
       "    }\n",
       "\n",
       "    .dataframe tbody tr th {\n",
       "        vertical-align: top;\n",
       "    }\n",
       "\n",
       "    .dataframe thead th {\n",
       "        text-align: right;\n",
       "    }\n",
       "</style>\n",
       "<table border=\"1\" class=\"dataframe\">\n",
       "  <thead>\n",
       "    <tr style=\"text-align: right;\">\n",
       "      <th></th>\n",
       "      <th>id</th>\n",
       "      <th>score</th>\n",
       "      <th>nivel</th>\n",
       "      <th>categoria</th>\n",
       "      <th>idade</th>\n",
       "      <th>pais</th>\n",
       "    </tr>\n",
       "  </thead>\n",
       "  <tbody>\n",
       "    <tr>\n",
       "      <th>0</th>\n",
       "      <td>1</td>\n",
       "      <td>321057.0</td>\n",
       "      <td>321.0</td>\n",
       "      <td>elfo</td>\n",
       "      <td>43.0</td>\n",
       "      <td>United States</td>\n",
       "    </tr>\n",
       "    <tr>\n",
       "      <th>1</th>\n",
       "      <td>2</td>\n",
       "      <td>495527.0</td>\n",
       "      <td>466.0</td>\n",
       "      <td>mago</td>\n",
       "      <td>16.0</td>\n",
       "      <td>Canada</td>\n",
       "    </tr>\n",
       "    <tr>\n",
       "      <th>2</th>\n",
       "      <td>3</td>\n",
       "      <td>700848.0</td>\n",
       "      <td>255.0</td>\n",
       "      <td>NaN</td>\n",
       "      <td>54.0</td>\n",
       "      <td>United States</td>\n",
       "    </tr>\n",
       "    <tr>\n",
       "      <th>3</th>\n",
       "      <td>4</td>\n",
       "      <td>985558.0</td>\n",
       "      <td>679.0</td>\n",
       "      <td>mago</td>\n",
       "      <td>87.0</td>\n",
       "      <td>Brazil</td>\n",
       "    </tr>\n",
       "    <tr>\n",
       "      <th>4</th>\n",
       "      <td>5</td>\n",
       "      <td>517633.0</td>\n",
       "      <td>752.0</td>\n",
       "      <td>guerreiro</td>\n",
       "      <td>69.0</td>\n",
       "      <td>Japan</td>\n",
       "    </tr>\n",
       "  </tbody>\n",
       "</table>\n",
       "</div>"
      ],
      "text/plain": [
       "   id     score  nivel  categoria  idade           pais\n",
       "0   1  321057.0  321.0       elfo   43.0  United States\n",
       "1   2  495527.0  466.0       mago   16.0         Canada\n",
       "2   3  700848.0  255.0        NaN   54.0  United States\n",
       "3   4  985558.0  679.0       mago   87.0         Brazil\n",
       "4   5  517633.0  752.0  guerreiro   69.0          Japan"
      ]
     },
     "execution_count": 3,
     "metadata": {},
     "output_type": "execute_result"
    }
   ],
   "source": [
    "# Exibir as primeiras linhas do dataframe\n",
    "df.head()"
   ]
  },
  {
   "cell_type": "code",
   "execution_count": 4,
   "id": "95854818-f96f-42c9-bc4f-f30e0ccc2ef6",
   "metadata": {},
   "outputs": [
    {
     "data": {
      "text/html": [
       "<div>\n",
       "<style scoped>\n",
       "    .dataframe tbody tr th:only-of-type {\n",
       "        vertical-align: middle;\n",
       "    }\n",
       "\n",
       "    .dataframe tbody tr th {\n",
       "        vertical-align: top;\n",
       "    }\n",
       "\n",
       "    .dataframe thead th {\n",
       "        text-align: right;\n",
       "    }\n",
       "</style>\n",
       "<table border=\"1\" class=\"dataframe\">\n",
       "  <thead>\n",
       "    <tr style=\"text-align: right;\">\n",
       "      <th></th>\n",
       "      <th>id</th>\n",
       "      <th>score</th>\n",
       "      <th>nivel</th>\n",
       "      <th>categoria</th>\n",
       "      <th>idade</th>\n",
       "      <th>pais</th>\n",
       "    </tr>\n",
       "  </thead>\n",
       "  <tbody>\n",
       "    <tr>\n",
       "      <th>995</th>\n",
       "      <td>996</td>\n",
       "      <td>146132.0</td>\n",
       "      <td>417.0</td>\n",
       "      <td>elfo</td>\n",
       "      <td>78.0</td>\n",
       "      <td>Japan</td>\n",
       "    </tr>\n",
       "    <tr>\n",
       "      <th>996</th>\n",
       "      <td>997</td>\n",
       "      <td>845482.0</td>\n",
       "      <td>588.0</td>\n",
       "      <td>orc</td>\n",
       "      <td>69.0</td>\n",
       "      <td>Portugal</td>\n",
       "    </tr>\n",
       "    <tr>\n",
       "      <th>997</th>\n",
       "      <td>998</td>\n",
       "      <td>230131.0</td>\n",
       "      <td>660.0</td>\n",
       "      <td>mago</td>\n",
       "      <td>57.0</td>\n",
       "      <td>Japan</td>\n",
       "    </tr>\n",
       "    <tr>\n",
       "      <th>998</th>\n",
       "      <td>999</td>\n",
       "      <td>635044.0</td>\n",
       "      <td>731.0</td>\n",
       "      <td>orc</td>\n",
       "      <td>17.0</td>\n",
       "      <td>Brazil</td>\n",
       "    </tr>\n",
       "    <tr>\n",
       "      <th>999</th>\n",
       "      <td>1000</td>\n",
       "      <td>317887.0</td>\n",
       "      <td>477.0</td>\n",
       "      <td>orc</td>\n",
       "      <td>64.0</td>\n",
       "      <td>Brazil</td>\n",
       "    </tr>\n",
       "  </tbody>\n",
       "</table>\n",
       "</div>"
      ],
      "text/plain": [
       "       id     score  nivel categoria  idade      pais\n",
       "995   996  146132.0  417.0      elfo   78.0     Japan\n",
       "996   997  845482.0  588.0       orc   69.0  Portugal\n",
       "997   998  230131.0  660.0      mago   57.0     Japan\n",
       "998   999  635044.0  731.0       orc   17.0    Brazil\n",
       "999  1000  317887.0  477.0       orc   64.0    Brazil"
      ]
     },
     "execution_count": 4,
     "metadata": {},
     "output_type": "execute_result"
    }
   ],
   "source": [
    "# Exibir as ultimas linhas do dataframe\n",
    "df.tail()"
   ]
  },
  {
   "cell_type": "code",
   "execution_count": 5,
   "id": "bf95bfb4-e8d9-4f8f-981f-be164b3d3778",
   "metadata": {},
   "outputs": [
    {
     "data": {
      "text/plain": [
       "(1000, 6)"
      ]
     },
     "execution_count": 5,
     "metadata": {},
     "output_type": "execute_result"
    }
   ],
   "source": [
    "# formato do dataframe para exibir o numero de linhas e colunas\n",
    "df.shape"
   ]
  },
  {
   "cell_type": "markdown",
   "id": "99514290-cd68-4064-8383-ad6843baf24f",
   "metadata": {},
   "source": [
    "## Análise Exploratória\n",
    "* Dados numéricos: score, nivel e idade\n",
    "* Dados categóricos: categoria e pais\n",
    "* Verificar valores nulos/NaN"
   ]
  },
  {
   "cell_type": "code",
   "execution_count": 137,
   "id": "c967795e-0d48-4367-a4da-f36bab114403",
   "metadata": {},
   "outputs": [
    {
     "data": {
      "text/plain": [
       "id           0\n",
       "score        2\n",
       "nivel        2\n",
       "categoria    3\n",
       "idade        3\n",
       "pais         2\n",
       "dtype: int64"
      ]
     },
     "execution_count": 137,
     "metadata": {},
     "output_type": "execute_result"
    }
   ],
   "source": [
    "# verificação de campos nulos no dataframe\n",
    "df.isnull().sum()"
   ]
  },
  {
   "cell_type": "markdown",
   "id": "5d6ec822-23eb-4699-96af-a3b8d327b174",
   "metadata": {},
   "source": [
    "### Colunas Categóricas\n",
    "* Contar e agrupar os registros por categoria\n",
    "* Visualizar a distribuição usando gráficos de barras"
   ]
  },
  {
   "cell_type": "markdown",
   "id": "39146fdf-69df-48a7-bc00-95045282208e",
   "metadata": {},
   "source": [
    "#### Categoria"
   ]
  },
  {
   "cell_type": "code",
   "execution_count": 6,
   "id": "cad8e7b0-be99-457c-ba13-bfc03057d0dd",
   "metadata": {},
   "outputs": [
    {
     "data": {
      "text/plain": [
       "categoria\n",
       "elfo         238\n",
       "guerreiro    242\n",
       "m@go           1\n",
       "mago         275\n",
       "orc          241\n",
       "dtype: int64"
      ]
     },
     "execution_count": 6,
     "metadata": {},
     "output_type": "execute_result"
    }
   ],
   "source": [
    "# agrupando e contando os dados da coluna categoria\n",
    "df.groupby(['categoria']).size()"
   ]
  },
  {
   "cell_type": "code",
   "execution_count": 7,
   "id": "cbd18daf-fd47-40ba-91b3-76a9e243e2ee",
   "metadata": {
    "editable": true,
    "slideshow": {
     "slide_type": ""
    },
    "tags": []
   },
   "outputs": [
    {
     "data": {
      "text/plain": [
       "<Axes: xlabel='categoria'>"
      ]
     },
     "execution_count": 7,
     "metadata": {},
     "output_type": "execute_result"
    },
    {
     "data": {
      "image/png": "[encoded data removed]",
      "text/plain": [
       "<Figure size 640x480 with 1 Axes>"
      ]
     },
     "metadata": {},
     "output_type": "display_data"
    }
   ],
   "source": [
    "# gráfico de barras\n",
    "df.groupby(['categoria']).size().plot.bar()"
   ]
  },
  {
   "cell_type": "markdown",
   "id": "7cd84979",
   "metadata": {},
   "source": [
    "Esse gráfico mostra quantos personagens existem em cada categoria, como \"mago\", \"guerreiro\", etc.\n",
    "Além de ajudar a visualizar a frequência de cada classe, ele também revelou um erro de digitação: \"m@go\", que aparece separadamente das demais e claramente deveria ser \"mago\".\n",
    "Esses erros são fáceis de identificar visualmente quando uma barra destoante aparece isolada."
   ]
  },
  {
   "cell_type": "markdown",
   "id": "3de75c05-70d1-42b7-91a8-8bd5814efa55",
   "metadata": {},
   "source": [
    "#### País"
   ]
  },
  {
   "cell_type": "code",
   "execution_count": 8,
   "id": "4e5c2ce8-1c02-4fd7-93b7-e57b444db010",
   "metadata": {
    "scrolled": true
   },
   "outputs": [
    {
     "data": {
      "text/plain": [
       "pais\n",
       "%apan               1\n",
       "Australia           7\n",
       "Brazil            279\n",
       "C#nada              1\n",
       "Canada             93\n",
       "Italy              10\n",
       "Japan             130\n",
       "Mexico             74\n",
       "Portuga&            1\n",
       "Portugal          222\n",
       "Spain              14\n",
       "United Kingdom     16\n",
       "United States     150\n",
       "dtype: int64"
      ]
     },
     "execution_count": 8,
     "metadata": {},
     "output_type": "execute_result"
    }
   ],
   "source": [
    "# agrupando e contando os dados da coluna pais\n",
    "df.groupby(['pais']).size()"
   ]
  },
  {
   "cell_type": "code",
   "execution_count": 10,
   "id": "61978cf0-7d7a-4a9e-b3c9-ad9c2cf4ca0d",
   "metadata": {
    "editable": true,
    "slideshow": {
     "slide_type": ""
    },
    "tags": []
   },
   "outputs": [
    {
     "data": {
      "text/plain": [
       "<Axes: xlabel='pais'>"
      ]
     },
     "execution_count": 10,
     "metadata": {},
     "output_type": "execute_result"
    },
    {
     "data": {
      "image/png": "[encoded data removed]",
      "text/plain": [
       "<Figure size 640x480 with 1 Axes>"
      ]
     },
     "metadata": {},
     "output_type": "display_data"
    }
   ],
   "source": [
    "# gráfico de barras\n",
    "df.groupby(['pais']).size().plot.bar()"
   ]
  },
  {
   "cell_type": "markdown",
   "id": "655f847c",
   "metadata": {},
   "source": [
    "Aqui vemos a distribuição de países registrados.\n",
    "Esse gráfico também nos ajudou a identificar três entradas incorretas: \"%apan\", \"C#nada\" e \"Portuga&\", que provavelmente foram causadas por erros de digitação e deveriam ser \"Japan\", \"Canada\" e \"Portugal\".\n",
    "Visualmente, essas entradas aparecem como países distintos e com contagens pequenas, o que chamou atenção para o problema."
   ]
  },
  {
   "cell_type": "markdown",
   "id": "b5035bea-203c-49f2-976a-34b694305607",
   "metadata": {},
   "source": [
    "### Colunas Numéricas\n",
    "* Gerar resumo estatístico\n",
    "* Observar a distribuição dos dados com boxplot e histograma"
   ]
  },
  {
   "cell_type": "code",
   "execution_count": 145,
   "id": "7766d68e-13da-49e4-8d90-4bf761a04fd3",
   "metadata": {},
   "outputs": [
    {
     "data": {
      "text/html": [
       "<div>\n",
       "<style scoped>\n",
       "    .dataframe tbody tr th:only-of-type {\n",
       "        vertical-align: middle;\n",
       "    }\n",
       "\n",
       "    .dataframe tbody tr th {\n",
       "        vertical-align: top;\n",
       "    }\n",
       "\n",
       "    .dataframe thead th {\n",
       "        text-align: right;\n",
       "    }\n",
       "</style>\n",
       "<table border=\"1\" class=\"dataframe\">\n",
       "  <thead>\n",
       "    <tr style=\"text-align: right;\">\n",
       "      <th></th>\n",
       "      <th>id</th>\n",
       "      <th>score</th>\n",
       "      <th>nivel</th>\n",
       "      <th>idade</th>\n",
       "    </tr>\n",
       "  </thead>\n",
       "  <tbody>\n",
       "    <tr>\n",
       "      <th>count</th>\n",
       "      <td>1000.000000</td>\n",
       "      <td>998.000000</td>\n",
       "      <td>998.000000</td>\n",
       "      <td>997.000000</td>\n",
       "    </tr>\n",
       "    <tr>\n",
       "      <th>mean</th>\n",
       "      <td>500.500000</td>\n",
       "      <td>496350.856713</td>\n",
       "      <td>495.098196</td>\n",
       "      <td>56.822467</td>\n",
       "    </tr>\n",
       "    <tr>\n",
       "      <th>std</th>\n",
       "      <td>288.819436</td>\n",
       "      <td>283458.860428</td>\n",
       "      <td>288.395089</td>\n",
       "      <td>25.249907</td>\n",
       "    </tr>\n",
       "    <tr>\n",
       "      <th>min</th>\n",
       "      <td>1.000000</td>\n",
       "      <td>-464.000000</td>\n",
       "      <td>-516.000000</td>\n",
       "      <td>12.000000</td>\n",
       "    </tr>\n",
       "    <tr>\n",
       "      <th>25%</th>\n",
       "      <td>250.750000</td>\n",
       "      <td>259577.250000</td>\n",
       "      <td>247.750000</td>\n",
       "      <td>35.000000</td>\n",
       "    </tr>\n",
       "    <tr>\n",
       "      <th>50%</th>\n",
       "      <td>500.500000</td>\n",
       "      <td>497023.500000</td>\n",
       "      <td>493.500000</td>\n",
       "      <td>59.000000</td>\n",
       "    </tr>\n",
       "    <tr>\n",
       "      <th>75%</th>\n",
       "      <td>750.250000</td>\n",
       "      <td>745172.500000</td>\n",
       "      <td>742.000000</td>\n",
       "      <td>78.000000</td>\n",
       "    </tr>\n",
       "    <tr>\n",
       "      <th>max</th>\n",
       "      <td>1000.000000</td>\n",
       "      <td>998871.000000</td>\n",
       "      <td>1000.000000</td>\n",
       "      <td>133.000000</td>\n",
       "    </tr>\n",
       "  </tbody>\n",
       "</table>\n",
       "</div>"
      ],
      "text/plain": [
       "                id          score        nivel       idade\n",
       "count  1000.000000     998.000000   998.000000  997.000000\n",
       "mean    500.500000  496350.856713   495.098196   56.822467\n",
       "std     288.819436  283458.860428   288.395089   25.249907\n",
       "min       1.000000    -464.000000  -516.000000   12.000000\n",
       "25%     250.750000  259577.250000   247.750000   35.000000\n",
       "50%     500.500000  497023.500000   493.500000   59.000000\n",
       "75%     750.250000  745172.500000   742.000000   78.000000\n",
       "max    1000.000000  998871.000000  1000.000000  133.000000"
      ]
     },
     "execution_count": 145,
     "metadata": {},
     "output_type": "execute_result"
    }
   ],
   "source": [
    "# análise geral\n",
    "df.describe()"
   ]
  },
  {
   "cell_type": "markdown",
   "id": "69e85b9a-c603-428c-9ec1-e02b6da1739c",
   "metadata": {},
   "source": [
    "#### Score"
   ]
  },
  {
   "cell_type": "code",
   "execution_count": 13,
   "id": "943a6fd2-cc7a-4c45-a84a-d4b5534a2462",
   "metadata": {
    "editable": true,
    "slideshow": {
     "slide_type": ""
    },
    "tags": []
   },
   "outputs": [
    {
     "data": {
      "text/plain": [
       "Text(0.5, 1.0, 'Score')"
      ]
     },
     "execution_count": 13,
     "metadata": {},
     "output_type": "execute_result"
    },
    {
     "data": {
      "image/png": "[encoded data removed]",
      "text/plain": [
       "<Figure size 640x480 with 1 Axes>"
      ]
     },
     "metadata": {},
     "output_type": "display_data"
    }
   ],
   "source": [
    "# boxplot: verificar outliers (valores fora do conjunto)\n",
    "srn.boxplot(df['score']).set_title('Score')"
   ]
  },
  {
   "cell_type": "markdown",
   "id": "11a4cfe9",
   "metadata": {},
   "source": [
    "O boxplot da coluna score serve pra mostrar possíveis valores muito fora do comum.\n",
    "Apesar de a coluna ter valores inválidos (como negativos e acima de 1 milhão), o gráfico não chega a destacar outliers visíveis — provavelmente porque estão diluídos pela escala.\n",
    "Ainda assim, o describe() mostra que esses valores existem."
   ]
  },
  {
   "cell_type": "code",
   "execution_count": 14,
   "id": "0b458b68-807d-448c-801a-3252dfdc741b",
   "metadata": {},
   "outputs": [
    {
     "data": {
      "text/plain": [
       "Text(0.5, 1.0, 'Score')"
      ]
     },
     "execution_count": 14,
     "metadata": {},
     "output_type": "execute_result"
    },
    {
     "data": {
      "image/png": "[encoded data removed]",
      "text/plain": [
       "<Figure size 640x480 with 1 Axes>"
      ]
     },
     "metadata": {},
     "output_type": "display_data"
    }
   ],
   "source": [
    "# histograma: distribuição das frequencias\n",
    "srn.histplot(df['score']).set_title('Score')"
   ]
  },
  {
   "cell_type": "markdown",
   "id": "7262d559",
   "metadata": {},
   "source": [
    "Esse gráfico mostra como as pontuações estão distribuídas.\n",
    "Dá pra perceber que a maioria dos jogadores está concentrada na faixa intermediária, com poucos em pontuações muito baixas ou muito altas."
   ]
  },
  {
   "cell_type": "markdown",
   "id": "03804069-e8e4-43ba-8757-18fd83ba56c7",
   "metadata": {},
   "source": [
    "#### Nível"
   ]
  },
  {
   "cell_type": "code",
   "execution_count": 15,
   "id": "2901f57f-7e78-4bcb-814f-d04a95e33a58",
   "metadata": {},
   "outputs": [
    {
     "data": {
      "text/plain": [
       "Text(0.5, 1.0, 'Nivel')"
      ]
     },
     "execution_count": 15,
     "metadata": {},
     "output_type": "execute_result"
    },
    {
     "data": {
      "image/png": "[encoded data removed]",
      "text/plain": [
       "<Figure size 640x480 with 1 Axes>"
      ]
     },
     "metadata": {},
     "output_type": "display_data"
    }
   ],
   "source": [
    "# boxplot: verificar outliers (valores fora do conjunto)\n",
    "srn.boxplot(df['nivel']).set_title('Nivel')"
   ]
  },
  {
   "cell_type": "markdown",
   "id": "11d4317c",
   "metadata": {},
   "source": [
    "Aqui conseguimos ver claramente a presença de outliers.\n",
    "Existe pelo menos um valor abaixo do mínimo esperado (níveis negativos), o que não faz sentido pra esse tipo de dado.\n",
    "O boxplot destaca esses valores como pontos fora da faixa normal."
   ]
  },
  {
   "cell_type": "code",
   "execution_count": 16,
   "id": "25edbe3e-4b99-4643-8052-2c0db37f275e",
   "metadata": {},
   "outputs": [
    {
     "data": {
      "text/plain": [
       "Text(0.5, 1.0, 'Nivel')"
      ]
     },
     "execution_count": 16,
     "metadata": {},
     "output_type": "execute_result"
    },
    {
     "data": {
      "image/png": "[encoded data removed]",
      "text/plain": [
       "<Figure size 640x480 with 1 Axes>"
      ]
     },
     "metadata": {},
     "output_type": "display_data"
    }
   ],
   "source": [
    "# histograma: distribuição das frequencias\n",
    "srn.histplot(df['nivel']).set_title('Nivel')"
   ]
  },
  {
   "cell_type": "markdown",
   "id": "df7f9774",
   "metadata": {},
   "source": [
    "Mostra a frequência de cada faixa de nível.\n",
    "A distribuição parece relativamente espalhada, com bastante gente entre os níveis intermediários.\n",
    "Mas o gráfico também deixa claro que há níveis negativos, o que reforça o erro detectado no boxplot."
   ]
  },
  {
   "cell_type": "markdown",
   "id": "e38a9f75-bd2c-43e8-8b57-063e928d2f11",
   "metadata": {},
   "source": [
    "#### Idade"
   ]
  },
  {
   "cell_type": "code",
   "execution_count": 17,
   "id": "e964c28b-b44c-4312-9d9e-b9273bcacbfd",
   "metadata": {},
   "outputs": [
    {
     "data": {
      "text/plain": [
       "Text(0.5, 1.0, 'Idade')"
      ]
     },
     "execution_count": 17,
     "metadata": {},
     "output_type": "execute_result"
    },
    {
     "data": {
      "image/png": "[encoded data removed]",
      "text/plain": [
       "<Figure size 640x480 with 1 Axes>"
      ]
     },
     "metadata": {},
     "output_type": "display_data"
    }
   ],
   "source": [
    "# boxplot: verificar outliers (valores fora do conjunto)\n",
    "srn.boxplot(df['idade']).set_title('Idade')"
   ]
  },
  {
   "cell_type": "markdown",
   "id": "0cb685fd",
   "metadata": {},
   "source": [
    "O boxplot da idade não mostra outliers visíveis, apesar de o describe() indicar valores acima de 100 anos.\n",
    "Isso pode acontecer porque os valores extremos ainda estão dentro do limite visual do gráfico, ou por serem poucos casos."
   ]
  },
  {
   "cell_type": "code",
   "execution_count": 18,
   "id": "9ba42fb1-8269-482e-b72f-ae6896a60087",
   "metadata": {},
   "outputs": [
    {
     "data": {
      "text/plain": [
       "Text(0.5, 1.0, 'Idade')"
      ]
     },
     "execution_count": 18,
     "metadata": {},
     "output_type": "execute_result"
    },
    {
     "data": {
      "image/png": "[encoded data removed]",
      "text/plain": [
       "<Figure size 640x480 with 1 Axes>"
      ]
     },
     "metadata": {},
     "output_type": "display_data"
    }
   ],
   "source": [
    "# histograma: distribuição das frequencias\n",
    "srn.histplot(df['idade']).set_title('Idade')"
   ]
  },
  {
   "cell_type": "markdown",
   "id": "b6889c5d",
   "metadata": {},
   "source": [
    "Aqui vemos como as idades estão distribuídas.\n",
    "A maior parte dos jogadores está entre 30 e 80 anos, com concentração perto dos 60.\n",
    "Valores acima de 100 são poucos e não se destacam muito visualmente."
   ]
  },
  {
   "cell_type": "markdown",
   "id": "bfc257c3",
   "metadata": {},
   "source": [
    "### Detecção de valores faltantes\n",
    "\n",
    "Aqui verificamos se existem valores ausentes no conjunto de dados.  \n",
    "Isso ajuda a decidir o que deve ser ajustado antes de partir para análises mais profundas."
   ]
  },
  {
   "cell_type": "code",
   "execution_count": 19,
   "id": "f60f7288-e6b4-47a5-a19b-3c17172ffee0",
   "metadata": {},
   "outputs": [
    {
     "data": {
      "text/plain": [
       "id           0\n",
       "score        2\n",
       "nivel        2\n",
       "categoria    3\n",
       "idade        3\n",
       "pais         2\n",
       "dtype: int64"
      ]
     },
     "execution_count": 19,
     "metadata": {},
     "output_type": "execute_result"
    }
   ],
   "source": [
    "df.isnull().sum()"
   ]
  },
  {
   "cell_type": "markdown",
   "id": "04a01ab8-18a8-4363-ade0-9707f5cb79ea",
   "metadata": {},
   "source": [
    "## Limpeza e Ajuste dos Dados\n",
    "* Dados numéricos: valores ausentes e inválidos foram substituídos pela mediana\n",
    "* Dados categóricos: valores ausentes foram substituídos pela categoria mais comum"
   ]
  },
  {
   "cell_type": "markdown",
   "id": "20ceab11-88ff-4cc5-afbc-6556bcf2f32f",
   "metadata": {},
   "source": [
    "### Categoria\n",
    "Os valores nulos da coluna `categoria` foram preenchidos com o valor mais comum (mago),  \n",
    "e também corrigimos o valor com erro de digitação ('m@go') para 'mago'."
   ]
  },
  {
   "cell_type": "code",
   "execution_count": 155,
   "id": "c6b4c70e-c944-4b09-8e17-c743f68a80ab",
   "metadata": {},
   "outputs": [
    {
     "data": {
      "text/plain": [
       "0"
      ]
     },
     "execution_count": 155,
     "metadata": {},
     "output_type": "execute_result"
    }
   ],
   "source": [
    "# preenchendo os valores nulos com a moda\n",
    "df.fillna({'categoria': 'mago'}, inplace = True)\n",
    "\n",
    "# verificar se ainda existem nulos\n",
    "df['categoria'].isnull().sum()"
   ]
  },
  {
   "cell_type": "code",
   "execution_count": 156,
   "id": "1bd335e5-727a-4b7a-9aa4-6fcb913cc08b",
   "metadata": {},
   "outputs": [
    {
     "data": {
      "text/plain": [
       "categoria\n",
       "elfo         238\n",
       "guerreiro    242\n",
       "mago         279\n",
       "orc          241\n",
       "dtype: int64"
      ]
     },
     "execution_count": 156,
     "metadata": {},
     "output_type": "execute_result"
    }
   ],
   "source": [
    "# Corrigindo erro de digitação: substituindo 'm@go' por 'mago'\n",
    "df.loc[df['categoria'] == 'm@go', 'categoria'] = 'mago'\n",
    "\n",
    "# Verificando novamente a contagem de categorias após a correção\n",
    "df.groupby(['categoria']).size()"
   ]
  },
  {
   "cell_type": "markdown",
   "id": "9f648ff3-ed35-4b6c-b9be-4858a4dbc73f",
   "metadata": {},
   "source": [
    "### País\n",
    "Preenchemos os valores ausentes com a categoria mais frequente ('Brazil') e corrigimos entradas com erros como '%apan', que foi alterado para 'Japan'."
   ]
  },
  {
   "cell_type": "code",
   "execution_count": 157,
   "id": "ab010856-7fe8-4a71-b131-728a2f40725c",
   "metadata": {},
   "outputs": [
    {
     "data": {
      "text/plain": [
       "0"
      ]
     },
     "execution_count": 157,
     "metadata": {},
     "output_type": "execute_result"
    }
   ],
   "source": [
    "# preenchendo os valores nulos com a moda\n",
    "df.fillna({'pais': 'Brazil'}, inplace = True)\n",
    "\n",
    "# verificar se ainda existem nulos\n",
    "df['pais'].isnull().sum()"
   ]
  },
  {
   "cell_type": "code",
   "execution_count": 158,
   "id": "751ad832-33a4-49ec-a1b2-6eb591634478",
   "metadata": {},
   "outputs": [
    {
     "data": {
      "text/plain": [
       "pais\n",
       "Australia           7\n",
       "Brazil            281\n",
       "Canada             94\n",
       "Italy              10\n",
       "Japan             131\n",
       "Mexico             74\n",
       "Portugal          223\n",
       "Spain              14\n",
       "United Kingdom     16\n",
       "United States     150\n",
       "dtype: int64"
      ]
     },
     "execution_count": 158,
     "metadata": {},
     "output_type": "execute_result"
    }
   ],
   "source": [
    "# Corrigindo os erros de digitação na coluna 'pais'\n",
    "df['pais'] = df['pais'].replace({\n",
    "    '%apan': 'Japan',\n",
    "    'C#nada': 'Canada',\n",
    "    'Portuga&': 'Portugal'\n",
    "})\n",
    "\n",
    "# Verificando novamente a contagem de paises após a correção\n",
    "df.groupby(['pais']).size()"
   ]
  },
  {
   "cell_type": "markdown",
   "id": "b0367651",
   "metadata": {},
   "source": [
    "### Score\n",
    "\n",
    "Foi usada a mediana da pontuação para preencher dados nulos e também para substituir valores inválidos (como negativos ou acima de 1.000.000), conforme as regras da base."
   ]
  },
  {
   "cell_type": "code",
   "execution_count": 22,
   "id": "a5e90d00-12d6-4295-9fed-0d25f14222a8",
   "metadata": {},
   "outputs": [
    {
     "data": {
      "text/plain": [
       "456111.5"
      ]
     },
     "execution_count": 22,
     "metadata": {},
     "output_type": "execute_result"
    }
   ],
   "source": [
    "#calcular a mediana da pontuação\n",
    "medianaScore = sts.median(df[\"score\"])\n",
    "\n",
    "medianaScore"
   ]
  },
  {
   "cell_type": "code",
   "execution_count": 23,
   "id": "4576c15e-4c15-4799-a259-623cad8b9688",
   "metadata": {},
   "outputs": [
    {
     "data": {
      "text/plain": [
       "count       998.000000\n",
       "mean     496350.856713\n",
       "std      283458.860428\n",
       "min        -464.000000\n",
       "25%      259577.250000\n",
       "50%      497023.500000\n",
       "75%      745172.500000\n",
       "max      998871.000000\n",
       "Name: score, dtype: float64"
      ]
     },
     "execution_count": 23,
     "metadata": {},
     "output_type": "execute_result"
    }
   ],
   "source": [
    "#relembrando o resumo estatístico\n",
    "df['score'].describe()"
   ]
  },
  {
   "cell_type": "code",
   "execution_count": 24,
   "id": "bbf746d8-5e46-4a58-96b5-beef36da1d75",
   "metadata": {},
   "outputs": [
    {
     "data": {
      "text/plain": [
       "0"
      ]
     },
     "execution_count": 24,
     "metadata": {},
     "output_type": "execute_result"
    }
   ],
   "source": [
    "# preencher os valores nulos com a mediana\n",
    "df.fillna({'score' : medianaScore }, inplace=True)\n",
    "\n",
    "# verificar se ainda existem nulos\n",
    "df['score'].isnull().sum()"
   ]
  },
  {
   "cell_type": "code",
   "execution_count": 25,
   "id": "763312ae-4ec8-45b8-a4e5-fe4b2ebefb42",
   "metadata": {},
   "outputs": [
    {
     "data": {
      "text/plain": [
       "count      1000.000000\n",
       "mean     496726.953500\n",
       "std      282746.734129\n",
       "min         884.000000\n",
       "25%      260677.500000\n",
       "50%      495862.000000\n",
       "75%      744387.500000\n",
       "max      998871.000000\n",
       "Name: score, dtype: float64"
      ]
     },
     "execution_count": 25,
     "metadata": {},
     "output_type": "execute_result"
    }
   ],
   "source": [
    "# Substituindo os valores inválidos de score pela mediana\n",
    "df.loc[(df[\"score\"] < 0) | (df[\"score\"] > 1000000), \"score\"] = medianaScore\n",
    "\n",
    "# Verificando os dados da coluna score após o tratamento\n",
    "df['score'].describe()"
   ]
  },
  {
   "cell_type": "markdown",
   "id": "1dc8c7f5-182f-455a-b36e-8fd43b1cbce9",
   "metadata": {},
   "source": [
    "#### Nível\n",
    "\n",
    "Aplicamos o mesmo procedimento: valores ausentes foram substituídos pela mediana,  \n",
    "e também ajustamos valores fora do intervalo permitido (0 a 1000)."
   ]
  },
  {
   "cell_type": "code",
   "execution_count": 26,
   "id": "c8d45c4a-91b2-4224-a5aa-9bfc9ac93f05",
   "metadata": {},
   "outputs": [
    {
     "data": {
      "text/plain": [
       "14.0"
      ]
     },
     "execution_count": 26,
     "metadata": {},
     "output_type": "execute_result"
    }
   ],
   "source": [
    "#calcular a mediana do nivel\n",
    "medianaNivel = sts.median(df[\"nivel\"])\n",
    "\n",
    "medianaNivel"
   ]
  },
  {
   "cell_type": "code",
   "execution_count": 27,
   "id": "96cf9b3f-5a00-417c-905f-ce0267a5f072",
   "metadata": {},
   "outputs": [
    {
     "data": {
      "text/plain": [
       "count     998.000000\n",
       "mean      495.098196\n",
       "std       288.395089\n",
       "min      -516.000000\n",
       "25%       247.750000\n",
       "50%       493.500000\n",
       "75%       742.000000\n",
       "max      1000.000000\n",
       "Name: nivel, dtype: float64"
      ]
     },
     "execution_count": 27,
     "metadata": {},
     "output_type": "execute_result"
    }
   ],
   "source": [
    "#relembrando o resumo estatístico\n",
    "df['nivel'].describe()"
   ]
  },
  {
   "cell_type": "code",
   "execution_count": 28,
   "id": "497a12b7-cf00-4858-9ddb-02c4944c27e9",
   "metadata": {},
   "outputs": [
    {
     "data": {
      "text/plain": [
       "0"
      ]
     },
     "execution_count": 28,
     "metadata": {},
     "output_type": "execute_result"
    }
   ],
   "source": [
    "# preencher os valores nulos com a mediana\n",
    "df.fillna({'nivel' : medianaNivel }, inplace=True)\n",
    "\n",
    "# verificar se ainda existem nulos\n",
    "df['nivel'].isnull().sum()"
   ]
  },
  {
   "cell_type": "code",
   "execution_count": 29,
   "id": "53dc2944-1f54-4cab-868f-1f6df42ac6c8",
   "metadata": {},
   "outputs": [
    {
     "data": {
      "text/plain": [
       "count    1000.000000\n",
       "mean      494.783000\n",
       "std       287.315931\n",
       "min         1.000000\n",
       "25%       246.750000\n",
       "50%       492.500000\n",
       "75%       742.000000\n",
       "max      1000.000000\n",
       "Name: nivel, dtype: float64"
      ]
     },
     "execution_count": 29,
     "metadata": {},
     "output_type": "execute_result"
    }
   ],
   "source": [
    "# Substituindo os valores inválidos de nivel pela mediana\n",
    "df.loc[(df[\"nivel\"] < 0) | (df[\"nivel\"] > 1000), \"nivel\"] = medianaNivel\n",
    "\n",
    "# Verificando os dados da nivel score após o tratamento\n",
    "df['nivel'].describe()"
   ]
  },
  {
   "cell_type": "markdown",
   "id": "76c279c8-e491-40b6-bdb3-0bcfb13b1867",
   "metadata": {},
   "source": [
    "#### Idade\n",
    "A coluna `idade` teve os nulos substituídos pela mediana,  \n",
    "e valores acima de 100 foram considerados inválidos e corrigidos da mesma forma."
   ]
  },
  {
   "cell_type": "code",
   "execution_count": 30,
   "id": "9fd71eeb-6760-4180-b19d-a841ad2b6fff",
   "metadata": {},
   "outputs": [
    {
     "data": {
      "text/plain": [
       "43.0"
      ]
     },
     "execution_count": 30,
     "metadata": {},
     "output_type": "execute_result"
    }
   ],
   "source": [
    "#calcular a mediana da idade\n",
    "medianaIdade = sts.median(df[\"idade\"])\n",
    "\n",
    "medianaIdade"
   ]
  },
  {
   "cell_type": "code",
   "execution_count": 168,
   "id": "5ae0eb30-9cc7-4ab2-bcae-dab4e7b15ad1",
   "metadata": {},
   "outputs": [
    {
     "data": {
      "text/plain": [
       "count    997.000000\n",
       "mean      56.822467\n",
       "std       25.249907\n",
       "min       12.000000\n",
       "25%       35.000000\n",
       "50%       59.000000\n",
       "75%       78.000000\n",
       "max      133.000000\n",
       "Name: idade, dtype: float64"
      ]
     },
     "execution_count": 168,
     "metadata": {},
     "output_type": "execute_result"
    }
   ],
   "source": [
    "#relembrando o resumo estatístico\n",
    "df['idade'].describe()"
   ]
  },
  {
   "cell_type": "code",
   "execution_count": 32,
   "id": "dce3400d-ef38-452a-91d6-304649fac441",
   "metadata": {},
   "outputs": [
    {
     "data": {
      "text/plain": [
       "0"
      ]
     },
     "execution_count": 32,
     "metadata": {},
     "output_type": "execute_result"
    }
   ],
   "source": [
    "# preencher os valores nulos com a mediana\n",
    "df.fillna({'idade' : medianaIdade }, inplace=True)\n",
    "\n",
    "# verificar se ainda existem nulos\n",
    "df['idade'].isnull().sum()"
   ]
  },
  {
   "cell_type": "code",
   "execution_count": 33,
   "id": "f2df4ebe-9f42-4a9d-acfe-2af95ae86857",
   "metadata": {},
   "outputs": [
    {
     "data": {
      "text/plain": [
       "count    1000.000000\n",
       "mean       56.609000\n",
       "std        25.021835\n",
       "min        12.000000\n",
       "25%        35.000000\n",
       "50%        58.000000\n",
       "75%        78.000000\n",
       "max       100.000000\n",
       "Name: idade, dtype: float64"
      ]
     },
     "execution_count": 33,
     "metadata": {},
     "output_type": "execute_result"
    }
   ],
   "source": [
    "# Substituindo os valores inválidos de idade pela mediana\n",
    "df.loc[(df[\"idade\"] < 0) | (df[\"idade\"] > 100), \"idade\"] = medianaIdade\n",
    "\n",
    "# Verificando os dados da idade score após o tratamento\n",
    "df['idade'].describe()"
   ]
  }
 ],
 "metadata": {
  "kernelspec": {
   "display_name": "Python 3 (ipykernel)",
   "language": "python",
   "name": "python3"
  },
  "language_info": {
   "codemirror_mode": {
    "name": "ipython",
    "version": 3
   },
   "file_extension": ".py",
   "mimetype": "text/x-python",
   "name": "python",
   "nbconvert_exporter": "python",
   "pygments_lexer": "ipython3",
   "version": "3.12.7"
  }
 },
 "nbformat": 4,
 "nbformat_minor": 5
}
