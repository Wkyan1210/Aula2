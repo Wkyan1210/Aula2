{
 "cells": [
  {
   "cell_type": "code",
   "execution_count": null,
   "id": "c1126398",
   "metadata": {},
   "outputs": [],
   "source": [
    "num1 = 8\n",
    "num2 = 12\n",
    "print('Soma:', num1 + num2)"
   ]
  },
  {
   "cell_type": "code",
   "execution_count": null,
   "id": "b062ea84",
   "metadata": {},
   "outputs": [],
   "source": [
    "print('Multiplicação:', num1 * num2)"
   ]
  },
  {
   "cell_type": "code",
   "execution_count": null,
   "id": "7041d2ec",
   "metadata": {},
   "outputs": [],
   "source": [
    "nota1 = 6.0\n",
    "nota2 = 7.5\n",
    "nota3 = 8.5\n",
    "media = (nota1 + nota2 + nota3) / 3\n",
    "print('Média:', media)"
   ]
  },
  {
   "cell_type": "code",
   "execution_count": null,
   "id": "eaa7ad2e",
   "metadata": {},
   "outputs": [],
   "source": [
    "if num1 > 0:\n",
    "    print('num1 é positivo')\n",
    "else:\n",
    "    print('num1 é negativo')"
   ]
  },
  {
   "cell_type": "code",
   "execution_count": null,
   "id": "c6526dfc",
   "metadata": {},
   "outputs": [],
   "source": [
    "if num2 % 2 == 0:\n",
    "    print('num2 é par')\n",
    "else:\n",
    "    print('num2 é ímpar')"
   ]
  },
  {
   "cell_type": "code",
   "execution_count": null,
   "id": "78147144",
   "metadata": {},
   "outputs": [],
   "source": [
    "if media >= 6.0:\n",
    "    print('O aluno foi aprovado!')\n",
    "elif 4.0 <= media < 6.0:\n",
    "    print('O aluno está de recuperação.')\n",
    "else:\n",
    "    print('O aluno foi reprovado.')"
   ]
  },
  {
   "cell_type": "code",
   "execution_count": null,
   "id": "28a2dc89",
   "metadata": {},
   "outputs": [],
   "source": [
    "idade = 30\n",
    "if idade < 12:\n",
    "    print('Criança')\n",
    "elif 12 <= idade < 18:\n",
    "    print('Adolescente')\n",
    "elif 18 <= idade < 60:\n",
    "    print('Adulto')\n",
    "else:\n",
    "    print('Idoso')"
   ]
  },
  {
   "cell_type": "code",
   "execution_count": null,
   "id": "aa73e3a9",
   "metadata": {},
   "outputs": [],
   "source": [
    "contador = 1\n",
    "while contador <= 10:\n",
    "    print(contador)\n",
    "    contador += 1"
   ]
  },
  {
   "cell_type": "code",
   "execution_count": null,
   "id": "9e0c269b",
   "metadata": {},
   "outputs": [],
   "source": [
    "for numero in range(1, 11):\n",
    "    print(numero)"
   ]
  },
  {
   "cell_type": "code",
   "execution_count": null,
   "id": "bcb5f275",
   "metadata": {},
   "outputs": [],
   "source": [
    "for i in range(1, 11):\n",
    "    print(f'{num1} x {i} = {num1 * i}')"
   ]
  },
  {
   "cell_type": "code",
   "execution_count": null,
   "id": "85106f69",
   "metadata": {},
   "outputs": [],
   "source": [
    "x = 0\n",
    "while x <= 100:\n",
    "    print(x)\n",
    "    x += 10"
   ]
  },
  {
   "cell_type": "code",
   "execution_count": null,
   "id": "ebb00b20",
   "metadata": {},
   "outputs": [],
   "source": [
    "for par in range(0, 21, 2):\n",
    "    print(par)"
   ]
  },
  {
   "cell_type": "code",
   "execution_count": null,
   "id": "a3d29d3d",
   "metadata": {},
   "outputs": [],
   "source": [
    "def converter_para_fahrenheit(celsius):\n",
    "    return celsius * 1.8 + 32\n",
    "\n",
    "print('A temperatura de 25°C em Fahrenheit é:', converter_para_fahrenheit(25))"
   ]
  },
  {
   "cell_type": "code",
   "execution_count": null,
   "id": "9ce1a971",
   "metadata": {},
   "outputs": [],
   "source": [
    "def calculadora():\n",
    "    num1 = float(input('Informe o primeiro número: '))\n",
    "    num2 = float(input('Informe o segundo número: '))\n",
    "    operacao = input('Selecione a operação desejada (+, -, *, /): ')\n",
    "    if operacao == '+':\n",
    "        print('O resultado da soma é:', num1 + num2)\n",
    "    elif operacao == '-':\n",
    "        print('O resultado da subtração é:', num1 - num2)\n",
    "    elif operacao == '*':\n",
    "        print('O resultado da multiplicação é:', num1 * num2)\n",
    "    elif operacao == '/':\n",
    "        if num2 != 0:\n",
    "            print('O resultado da divisão é:', num1 / num2)\n",
    "        else:\n",
    "            print('Erro: Não é possível dividir por zero.')\n",
    "    else:\n",
    "        print('Operação inválida!')\n",
    "\n",
    "# Para testar a função, remova o comentário abaixo\n",
    "# calculadora()"
   ]
  }
 ],
 "metadata": {},
 "nbformat": 4,
 "nbformat_minor": 5
}
