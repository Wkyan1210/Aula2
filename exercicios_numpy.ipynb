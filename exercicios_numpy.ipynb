{
 "cells": [
  {
   "cell_type": "markdown",
   "id": "d7acc0f2",
   "metadata": {},
   "source": [
    "# Lista de Exercícios - Biblioteca NumPy\n",
    "Este notebook contém a resolução dos exercícios sobre a biblioteca NumPy."
   ]
  },
  {
   "cell_type": "code",
   "execution_count": null,
   "id": "2a259180",
   "metadata": {},
   "outputs": [],
   "source": [
    "\n",
    "import numpy as np\n"
   ]
  },
  {
   "cell_type": "code",
   "execution_count": null,
   "id": "7bcc85af",
   "metadata": {},
   "outputs": [],
   "source": [
    "\n",
    "# 1. Converta os elementos do array [3, 5, 9, 16, 25] para float.\n",
    "array_int = np.array([3, 5, 9, 16, 25])\n",
    "array_float = array_int.astype(float)\n",
    "array_float\n"
   ]
  },
  {
   "cell_type": "code",
   "execution_count": null,
   "id": "3f8e4697",
   "metadata": {},
   "outputs": [],
   "source": [
    "\n",
    "# 2. Dado o array [1.2, -3.6, 8.99999, 16.1], converta os seus elementos para int.\n",
    "array_float = np.array([1.2, -3.6, 8.99999, 16.1])\n",
    "array_int = array_float.astype(int)\n",
    "array_int\n"
   ]
  },
  {
   "cell_type": "code",
   "execution_count": null,
   "id": "dd2ef41e",
   "metadata": {},
   "outputs": [],
   "source": [
    "\n",
    "# 3. Crie uma matriz 3x9 contendo apenas elementos com valor zero.\n",
    "matriz_zeros = np.zeros((3,9))\n",
    "matriz_zeros\n"
   ]
  },
  {
   "cell_type": "code",
   "execution_count": null,
   "id": "24b9d775",
   "metadata": {},
   "outputs": [],
   "source": [
    "\n",
    "# 4. Crie uma matriz 6x7 de números inteiros contendo elementos com valor 1.\n",
    "matriz_uns = np.ones((6,7), dtype=int)\n",
    "matriz_uns\n"
   ]
  },
  {
   "cell_type": "code",
   "execution_count": null,
   "id": "505d8ffd",
   "metadata": {},
   "outputs": [],
   "source": [
    "\n",
    "# 5. Crie uma matriz identidade de tamanho 4.\n",
    "matriz_identidade = np.eye(4)\n",
    "matriz_identidade\n"
   ]
  },
  {
   "cell_type": "code",
   "execution_count": null,
   "id": "e9256d1e",
   "metadata": {},
   "outputs": [],
   "source": [
    "\n",
    "# 6. Crie um array de números aleatórios entre 0 e 1 de tamanho 5.\n",
    "array_random = np.random.rand(5)\n",
    "array_random\n"
   ]
  },
  {
   "cell_type": "code",
   "execution_count": null,
   "id": "d3cdf394",
   "metadata": {},
   "outputs": [],
   "source": [
    "\n",
    "# 7. Crie uma matriz 3x6 contendo números aleatórios de 0 a 5.\n",
    "matriz_random = np.random.randint(0, 6, (3,6))\n",
    "matriz_random\n"
   ]
  },
  {
   "cell_type": "code",
   "execution_count": null,
   "id": "770d6791",
   "metadata": {},
   "outputs": [],
   "source": [
    "\n",
    "# Matriz usada nos exercícios 8 a 11\n",
    "matriz_ex = np.array([[4, 6, 8], [-4, 3, 2], [22, -15, 12]])\n",
    "matriz_ex\n"
   ]
  },
  {
   "cell_type": "code",
   "execution_count": null,
   "id": "b424f13e",
   "metadata": {},
   "outputs": [],
   "source": [
    "\n",
    "# 8. Informe o código para exibir o valor máximo da matriz.\n",
    "matriz_ex.max()\n"
   ]
  },
  {
   "cell_type": "code",
   "execution_count": null,
   "id": "ea43da85",
   "metadata": {},
   "outputs": [],
   "source": [
    "\n",
    "# 9. Qual o código para exibir o valor mínimo da matriz?\n",
    "matriz_ex.min()\n"
   ]
  },
  {
   "cell_type": "code",
   "execution_count": null,
   "id": "aee85ea5",
   "metadata": {},
   "outputs": [],
   "source": [
    "\n",
    "# 10. Como fazer para imprimir na tela a soma dos elementos da matriz?\n",
    "matriz_ex.sum()\n"
   ]
  },
  {
   "cell_type": "code",
   "execution_count": null,
   "id": "d97e5acd",
   "metadata": {},
   "outputs": [],
   "source": [
    "\n",
    "# 11. Escreva o código necessário para exibir a média dos elementos da matriz.\n",
    "matriz_ex.mean()\n"
   ]
  },
  {
   "cell_type": "code",
   "execution_count": null,
   "id": "53ced6e1",
   "metadata": {},
   "outputs": [],
   "source": [
    "\n",
    "# Array usado nos exercícios 12 a 16\n",
    "array_ex = np.array([13, -2, 6, 8, 23, 15, 3, 90, 4, 10, 56, 12])\n",
    "array_ex\n"
   ]
  },
  {
   "cell_type": "code",
   "execution_count": null,
   "id": "a5d8c702",
   "metadata": {},
   "outputs": [],
   "source": [
    "\n",
    "# 12. Exibir o 4º elemento do array.\n",
    "array_ex[3]\n"
   ]
  },
  {
   "cell_type": "code",
   "execution_count": null,
   "id": "a2cfe2dc",
   "metadata": {},
   "outputs": [],
   "source": [
    "\n",
    "# 13. Exibir os 3 últimos elementos do array.\n",
    "array_ex[-3:]\n"
   ]
  },
  {
   "cell_type": "code",
   "execution_count": null,
   "id": "ca40def2",
   "metadata": {},
   "outputs": [],
   "source": [
    "\n",
    "# 14. Exibir os elementos a partir da posição 2.\n",
    "array_ex[2:]\n"
   ]
  },
  {
   "cell_type": "code",
   "execution_count": null,
   "id": "393f1ddc",
   "metadata": {},
   "outputs": [],
   "source": [
    "\n",
    "# 15. Exibir um array entre o 2º e o 6º elementos. O 6º elemento deve estar presente.\n",
    "array_ex[1:6]\n"
   ]
  },
  {
   "cell_type": "code",
   "execution_count": null,
   "id": "fbea8449",
   "metadata": {},
   "outputs": [],
   "source": [
    "\n",
    "# 16. Escreva o código que resulta na exibição do seguinte array: [23 15 3 90]\n",
    "array_ex[4:8]\n"
   ]
  },
  {
   "cell_type": "code",
   "execution_count": null,
   "id": "619e5817",
   "metadata": {},
   "outputs": [],
   "source": [
    "\n",
    "# Matriz usada nos exercícios 17 a 20\n",
    "matriz_ex2 = np.array([\n",
    "    [1, 3, 16, -25, 14],\n",
    "    [2, 0, 10, 5, 17],\n",
    "    [19, 4, 8, 15, 13],\n",
    "    [7, 12, -5, 14, 0]\n",
    "])\n",
    "matriz_ex2\n"
   ]
  },
  {
   "cell_type": "code",
   "execution_count": null,
   "id": "6fa4be9d",
   "metadata": {},
   "outputs": [],
   "source": [
    "\n",
    "# 17. Escreva o código para exibir a 3ª linha da matriz.\n",
    "matriz_ex2[2]\n"
   ]
  },
  {
   "cell_type": "code",
   "execution_count": null,
   "id": "59539d6b",
   "metadata": {},
   "outputs": [],
   "source": [
    "\n",
    "# 18. Escreva o código para exibir a 4ª coluna.\n",
    "matriz_ex2[:, 3]\n"
   ]
  },
  {
   "cell_type": "code",
   "execution_count": null,
   "id": "ea6be001",
   "metadata": {},
   "outputs": [],
   "source": [
    "\n",
    "# 19. Escreva o código para exibir o elemento de valor 10.\n",
    "matriz_ex2[1, 2]\n"
   ]
  },
  {
   "cell_type": "code",
   "execution_count": null,
   "id": "2f54efa2",
   "metadata": {},
   "outputs": [],
   "source": [
    "\n",
    "# 20. Escreva o código que resulta na seguinte matriz:\n",
    "# [[0 10 5]\n",
    "#  [4 8 15]]\n",
    "matriz_ex2[1:3, 1:4]\n"
   ]
  },
  {
   "cell_type": "code",
   "execution_count": null,
   "id": "af5bc7a0",
   "metadata": {},
   "outputs": [],
   "source": [
    "\n",
    "# Matriz usada no último exercício\n",
    "matriz_ex3 = np.array([\n",
    "    [2, -1, 15, 24],\n",
    "    [-3, 18, 4, 25],\n",
    "    [9, 10, -13, 7]\n",
    "])\n",
    "matriz_ex3\n"
   ]
  },
  {
   "cell_type": "code",
   "execution_count": null,
   "id": "76849c1d",
   "metadata": {},
   "outputs": [],
   "source": [
    "\n",
    "# 21. Crie uma nova matriz, atribuindo o valor 1 para os números ímpares e 2 para os pares.\n",
    "matriz_transformada = np.where(matriz_ex3 % 2 == 0, 2, 1)\n",
    "matriz_transformada\n"
   ]
  }
 ],
 "metadata": {},
 "nbformat": 4,
 "nbformat_minor": 5
}